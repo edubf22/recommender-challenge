{
 "cells": [
  {
   "cell_type": "markdown",
   "id": "6be354c7",
   "metadata": {},
   "source": [
    "# Load libraries"
   ]
  },
  {
   "cell_type": "code",
   "execution_count": 1,
   "id": "6956bbcd",
   "metadata": {},
   "outputs": [],
   "source": [
    "import pandas as pd\n",
    "import numpy as np\n",
    "\n",
    "from surprise import Reader, Dataset, SVD, accuracy\n",
    "from surprise.model_selection import train_test_split, cross_validate, GridSearchCV\n",
    "\n",
    "import matplotlib.pyplot as plt\n",
    "%config InlineBackend.figure_format = 'retina'\n",
    "import seaborn as sns\n",
    "sns.set_style('darkgrid')"
   ]
  },
  {
   "cell_type": "markdown",
   "id": "571f3e91",
   "metadata": {},
   "source": [
    "# Load dataset"
   ]
  },
  {
   "cell_type": "markdown",
   "id": "e21f2f83",
   "metadata": {},
   "source": [
    "This is a huge dataset, so to avoid running out of memory, we could only load the dataset partially"
   ]
  },
  {
   "cell_type": "code",
   "execution_count": 2,
   "id": "ca698acd",
   "metadata": {},
   "outputs": [],
   "source": [
    "# Skip date information\n",
    "df1 = pd.read_csv('/home/eduardo/projects/recommender-data/combined_data_1.txt',\n",
    "                 header=None, names=['Cust_Id', 'Rating'], usecols=[0,1])"
   ]
  },
  {
   "cell_type": "code",
   "execution_count": 3,
   "id": "4301dafe",
   "metadata": {},
   "outputs": [
    {
     "data": {
      "text/html": [
       "<div>\n",
       "<style scoped>\n",
       "    .dataframe tbody tr th:only-of-type {\n",
       "        vertical-align: middle;\n",
       "    }\n",
       "\n",
       "    .dataframe tbody tr th {\n",
       "        vertical-align: top;\n",
       "    }\n",
       "\n",
       "    .dataframe thead th {\n",
       "        text-align: right;\n",
       "    }\n",
       "</style>\n",
       "<table border=\"1\" class=\"dataframe\">\n",
       "  <thead>\n",
       "    <tr style=\"text-align: right;\">\n",
       "      <th></th>\n",
       "      <th>Cust_Id</th>\n",
       "      <th>Rating</th>\n",
       "    </tr>\n",
       "  </thead>\n",
       "  <tbody>\n",
       "    <tr>\n",
       "      <th>0</th>\n",
       "      <td>1:</td>\n",
       "      <td>NaN</td>\n",
       "    </tr>\n",
       "    <tr>\n",
       "      <th>1</th>\n",
       "      <td>1488844</td>\n",
       "      <td>3.0</td>\n",
       "    </tr>\n",
       "    <tr>\n",
       "      <th>2</th>\n",
       "      <td>822109</td>\n",
       "      <td>5.0</td>\n",
       "    </tr>\n",
       "    <tr>\n",
       "      <th>3</th>\n",
       "      <td>885013</td>\n",
       "      <td>4.0</td>\n",
       "    </tr>\n",
       "    <tr>\n",
       "      <th>4</th>\n",
       "      <td>30878</td>\n",
       "      <td>4.0</td>\n",
       "    </tr>\n",
       "  </tbody>\n",
       "</table>\n",
       "</div>"
      ],
      "text/plain": [
       "   Cust_Id  Rating\n",
       "0       1:     NaN\n",
       "1  1488844     3.0\n",
       "2   822109     5.0\n",
       "3   885013     4.0\n",
       "4    30878     4.0"
      ]
     },
     "execution_count": 3,
     "metadata": {},
     "output_type": "execute_result"
    }
   ],
   "source": [
    "# First row is the movie ID, following rows have customer id and rating given to movie 1\n",
    "df1.head()"
   ]
  },
  {
   "cell_type": "code",
   "execution_count": 4,
   "id": "ed5c0663",
   "metadata": {},
   "outputs": [
    {
     "data": {
      "text/plain": [
       "Cust_Id     object\n",
       "Rating     float64\n",
       "dtype: object"
      ]
     },
     "execution_count": 4,
     "metadata": {},
     "output_type": "execute_result"
    }
   ],
   "source": [
    "df1.dtypes"
   ]
  },
  {
   "cell_type": "code",
   "execution_count": 5,
   "id": "9200cb05",
   "metadata": {},
   "outputs": [
    {
     "data": {
      "text/plain": [
       "(24058263, 2)"
      ]
     },
     "execution_count": 5,
     "metadata": {},
     "output_type": "execute_result"
    }
   ],
   "source": [
    "df1.shape"
   ]
  },
  {
   "cell_type": "code",
   "execution_count": 6,
   "id": "78c7eae5",
   "metadata": {},
   "outputs": [
    {
     "data": {
      "text/plain": [
       "Cust_Id       0\n",
       "Rating     4499\n",
       "dtype: int64"
      ]
     },
     "execution_count": 6,
     "metadata": {},
     "output_type": "execute_result"
    }
   ],
   "source": [
    "# NaN ratings correspond to row with a new movie ID (e.g. 1:)\n",
    "df1.isna().sum()"
   ]
  },
  {
   "cell_type": "code",
   "execution_count": 7,
   "id": "522b01a4",
   "metadata": {},
   "outputs": [
    {
     "name": "stdout",
     "output_type": "stream",
     "text": [
      "(26982302, 2)\n"
     ]
    }
   ],
   "source": [
    "# Load remaining datasets\n",
    "df2 = pd.read_csv('/home/eduardo/projects/recommender-data/combined_data_2.txt',\n",
    "                 header=None, names=['Cust_Id', 'Rating'], usecols=[0,1])\n",
    "#df3 = pd.read_csv('/home/eduardo/projects/recommender-data/combined_data_3.txt',\n",
    "#                 header=None, names=['Cust_Id', 'Rating'], usecols=[0,1])\n",
    "#df4 = pd.read_csv('/home/eduardo/projects/recommender-data/combined_data_4.txt',\n",
    "#                 header=None, names=['Cust_Id', 'Rating'], usecols=[0,1])\n",
    "\n",
    "print(df2.shape)\n",
    "#print(df3.shape)\n",
    "#print(df4.shape)"
   ]
  },
  {
   "cell_type": "code",
   "execution_count": 8,
   "id": "a9ee0604",
   "metadata": {},
   "outputs": [
    {
     "name": "stderr",
     "output_type": "stream",
     "text": [
      "/tmp/ipykernel_13561/209923039.py:2: FutureWarning: The frame.append method is deprecated and will be removed from pandas in a future version. Use pandas.concat instead.\n",
      "  df = df1.append(df2)\n"
     ]
    }
   ],
   "source": [
    "# Merge the datasets\n",
    "df = df1.append(df2)\n",
    "#df = df.append(df3)\n",
    "#df = df.append(df4)"
   ]
  },
  {
   "cell_type": "code",
   "execution_count": 9,
   "id": "18cc4ff9",
   "metadata": {},
   "outputs": [
    {
     "name": "stdout",
     "output_type": "stream",
     "text": [
      "(51040565, 2)\n"
     ]
    },
    {
     "data": {
      "text/html": [
       "<div>\n",
       "<style scoped>\n",
       "    .dataframe tbody tr th:only-of-type {\n",
       "        vertical-align: middle;\n",
       "    }\n",
       "\n",
       "    .dataframe tbody tr th {\n",
       "        vertical-align: top;\n",
       "    }\n",
       "\n",
       "    .dataframe thead th {\n",
       "        text-align: right;\n",
       "    }\n",
       "</style>\n",
       "<table border=\"1\" class=\"dataframe\">\n",
       "  <thead>\n",
       "    <tr style=\"text-align: right;\">\n",
       "      <th></th>\n",
       "      <th>Cust_Id</th>\n",
       "      <th>Rating</th>\n",
       "    </tr>\n",
       "  </thead>\n",
       "  <tbody>\n",
       "    <tr>\n",
       "      <th>51040560</th>\n",
       "      <td>2420260</td>\n",
       "      <td>1.0</td>\n",
       "    </tr>\n",
       "    <tr>\n",
       "      <th>51040561</th>\n",
       "      <td>761176</td>\n",
       "      <td>3.0</td>\n",
       "    </tr>\n",
       "    <tr>\n",
       "      <th>51040562</th>\n",
       "      <td>459277</td>\n",
       "      <td>3.0</td>\n",
       "    </tr>\n",
       "    <tr>\n",
       "      <th>51040563</th>\n",
       "      <td>2407365</td>\n",
       "      <td>4.0</td>\n",
       "    </tr>\n",
       "    <tr>\n",
       "      <th>51040564</th>\n",
       "      <td>627867</td>\n",
       "      <td>3.0</td>\n",
       "    </tr>\n",
       "  </tbody>\n",
       "</table>\n",
       "</div>"
      ],
      "text/plain": [
       "          Cust_Id  Rating\n",
       "51040560  2420260     1.0\n",
       "51040561   761176     3.0\n",
       "51040562   459277     3.0\n",
       "51040563  2407365     4.0\n",
       "51040564   627867     3.0"
      ]
     },
     "execution_count": 9,
     "metadata": {},
     "output_type": "execute_result"
    }
   ],
   "source": [
    "# Reset index and show shape\n",
    "df.index = np.arange(0, len(df))\n",
    "print(df.shape)\n",
    "df.tail()"
   ]
  },
  {
   "cell_type": "code",
   "execution_count": 10,
   "id": "9907eadb",
   "metadata": {},
   "outputs": [
    {
     "data": {
      "text/html": [
       "<div>\n",
       "<style scoped>\n",
       "    .dataframe tbody tr th:only-of-type {\n",
       "        vertical-align: middle;\n",
       "    }\n",
       "\n",
       "    .dataframe tbody tr th {\n",
       "        vertical-align: top;\n",
       "    }\n",
       "\n",
       "    .dataframe thead th {\n",
       "        text-align: right;\n",
       "    }\n",
       "</style>\n",
       "<table border=\"1\" class=\"dataframe\">\n",
       "  <thead>\n",
       "    <tr style=\"text-align: right;\">\n",
       "      <th></th>\n",
       "      <th>Cust_Id</th>\n",
       "      <th>Rating</th>\n",
       "    </tr>\n",
       "  </thead>\n",
       "  <tbody>\n",
       "    <tr>\n",
       "      <th>0</th>\n",
       "      <td>1:</td>\n",
       "      <td>NaN</td>\n",
       "    </tr>\n",
       "    <tr>\n",
       "      <th>1</th>\n",
       "      <td>1488844</td>\n",
       "      <td>3.0</td>\n",
       "    </tr>\n",
       "    <tr>\n",
       "      <th>2</th>\n",
       "      <td>822109</td>\n",
       "      <td>5.0</td>\n",
       "    </tr>\n",
       "    <tr>\n",
       "      <th>3</th>\n",
       "      <td>885013</td>\n",
       "      <td>4.0</td>\n",
       "    </tr>\n",
       "    <tr>\n",
       "      <th>4</th>\n",
       "      <td>30878</td>\n",
       "      <td>4.0</td>\n",
       "    </tr>\n",
       "  </tbody>\n",
       "</table>\n",
       "</div>"
      ],
      "text/plain": [
       "   Cust_Id  Rating\n",
       "0       1:     NaN\n",
       "1  1488844     3.0\n",
       "2   822109     5.0\n",
       "3   885013     4.0\n",
       "4    30878     4.0"
      ]
     },
     "execution_count": 10,
     "metadata": {},
     "output_type": "execute_result"
    }
   ],
   "source": [
    "df.head()"
   ]
  },
  {
   "cell_type": "code",
   "execution_count": 11,
   "id": "498b675c",
   "metadata": {},
   "outputs": [],
   "source": [
    "# Remove the other dfs from memory\n",
    "del df1, df2#, df3, df4"
   ]
  },
  {
   "cell_type": "markdown",
   "id": "62558353",
   "metadata": {},
   "source": [
    "# Data visualization"
   ]
  },
  {
   "cell_type": "code",
   "execution_count": 12,
   "id": "82c8bc4d",
   "metadata": {},
   "outputs": [
    {
     "data": {
      "text/html": [
       "<div>\n",
       "<style scoped>\n",
       "    .dataframe tbody tr th:only-of-type {\n",
       "        vertical-align: middle;\n",
       "    }\n",
       "\n",
       "    .dataframe tbody tr th {\n",
       "        vertical-align: top;\n",
       "    }\n",
       "\n",
       "    .dataframe thead th {\n",
       "        text-align: right;\n",
       "    }\n",
       "</style>\n",
       "<table border=\"1\" class=\"dataframe\">\n",
       "  <thead>\n",
       "    <tr style=\"text-align: right;\">\n",
       "      <th></th>\n",
       "      <th>count</th>\n",
       "    </tr>\n",
       "    <tr>\n",
       "      <th>Rating</th>\n",
       "      <th></th>\n",
       "    </tr>\n",
       "  </thead>\n",
       "  <tbody>\n",
       "    <tr>\n",
       "      <th>1.0</th>\n",
       "      <td>2376944</td>\n",
       "    </tr>\n",
       "    <tr>\n",
       "      <th>2.0</th>\n",
       "      <td>5208010</td>\n",
       "    </tr>\n",
       "    <tr>\n",
       "      <th>3.0</th>\n",
       "      <td>14730279</td>\n",
       "    </tr>\n",
       "    <tr>\n",
       "      <th>4.0</th>\n",
       "      <td>17149528</td>\n",
       "    </tr>\n",
       "    <tr>\n",
       "      <th>5.0</th>\n",
       "      <td>11566594</td>\n",
       "    </tr>\n",
       "  </tbody>\n",
       "</table>\n",
       "</div>"
      ],
      "text/plain": [
       "           count\n",
       "Rating          \n",
       "1.0      2376944\n",
       "2.0      5208010\n",
       "3.0     14730279\n",
       "4.0     17149528\n",
       "5.0     11566594"
      ]
     },
     "execution_count": 12,
     "metadata": {},
     "output_type": "execute_result"
    }
   ],
   "source": [
    "# Look at the Rating distribution\n",
    "rating_dist = df.groupby('Rating')['Rating'].agg(['count'])\n",
    "rating_dist.head()"
   ]
  },
  {
   "cell_type": "code",
   "execution_count": 13,
   "id": "1d169855",
   "metadata": {},
   "outputs": [],
   "source": [
    "# Movie count - we know rows with movie ID have NaN rating\n",
    "movie_count = df['Rating'].isnull().sum()"
   ]
  },
  {
   "cell_type": "code",
   "execution_count": 14,
   "id": "113da054",
   "metadata": {},
   "outputs": [],
   "source": [
    "# Customer count - need to take rows that have movie IDs into account\n",
    "cust_count = df['Cust_Id'].nunique() - df['Rating'].isnull().sum()"
   ]
  },
  {
   "cell_type": "code",
   "execution_count": 15,
   "id": "7ada8ad1",
   "metadata": {},
   "outputs": [],
   "source": [
    "# Total Rating count - again, take rows with movie IDs into account\n",
    "rating_count = df['Cust_Id'].count() - df['Rating'].isnull().sum()"
   ]
  },
  {
   "cell_type": "code",
   "execution_count": 16,
   "id": "4a701241",
   "metadata": {},
   "outputs": [],
   "source": [
    "#rating_dist.iloc[0][0]/4"
   ]
  },
  {
   "cell_type": "code",
   "execution_count": 65,
   "id": "937f6c95",
   "metadata": {},
   "outputs": [
    {
     "data": {
      "image/png": "[encoded data removed]",
      "text/plain": [
       "<Figure size 640x480 with 1 Axes>"
      ]
     },
     "metadata": {
      "image/png": {
       "height": 471,
       "width": 629
      }
     },
     "output_type": "display_data"
    }
   ],
   "source": [
    "# Create graph object\n",
    "ax = rating_dist.plot(kind='barh', legend=False)\n",
    "\n",
    "# Add features\n",
    "plt.title('Dataset: {:,} movies, {:,} customers, {:,} ratings'.format(movie_count, cust_count, rating_count))\n",
    "plt.xlim(right=2e7)\n",
    "plt.xlabel('Count')\n",
    "\n",
    "# Add percentages to each bar\n",
    "for i in range (1, 6):\n",
    "    ax.text(x=rating_dist.iloc[i-1], \n",
    "            y=i-1, \n",
    "            s='{:.1f}%'.format(rating_dist.iloc[i-1][0]*100 / rating_dist.sum()[0]),\n",
    "            color='black', \n",
    "            weight='bold')\n",
    "\n",
    "plt.tight_layout()\n",
    "#plt.savefig('../saves/images/rating_distrib.png')\n",
    "plt.show()"
   ]
  },
  {
   "cell_type": "code",
   "execution_count": 19,
   "id": "8c2ec731",
   "metadata": {},
   "outputs": [],
   "source": [
    "# Not a normal distribution, we can see there are more ratings over 3.0"
   ]
  },
  {
   "cell_type": "markdown",
   "id": "9fb78a4c",
   "metadata": {},
   "source": [
    "# Data cleaning"
   ]
  },
  {
   "cell_type": "markdown",
   "id": "0e42d531",
   "metadata": {},
   "source": [
    "Let's create a new column using the Movie IDs. These are currently showing as a Cust_Id with missing rating, so we can easily select these rows using pandas filters."
   ]
  },
  {
   "cell_type": "code",
   "execution_count": 19,
   "id": "a4bdc115",
   "metadata": {},
   "outputs": [
    {
     "data": {
      "text/html": [
       "<div>\n",
       "<style scoped>\n",
       "    .dataframe tbody tr th:only-of-type {\n",
       "        vertical-align: middle;\n",
       "    }\n",
       "\n",
       "    .dataframe tbody tr th {\n",
       "        vertical-align: top;\n",
       "    }\n",
       "\n",
       "    .dataframe thead th {\n",
       "        text-align: right;\n",
       "    }\n",
       "</style>\n",
       "<table border=\"1\" class=\"dataframe\">\n",
       "  <thead>\n",
       "    <tr style=\"text-align: right;\">\n",
       "      <th></th>\n",
       "      <th>Cust_Id</th>\n",
       "      <th>Rating</th>\n",
       "      <th>Movie_Id</th>\n",
       "    </tr>\n",
       "  </thead>\n",
       "  <tbody>\n",
       "    <tr>\n",
       "      <th>0</th>\n",
       "      <td>1:</td>\n",
       "      <td>NaN</td>\n",
       "      <td>1</td>\n",
       "    </tr>\n",
       "    <tr>\n",
       "      <th>1</th>\n",
       "      <td>1488844</td>\n",
       "      <td>3.0</td>\n",
       "      <td>NaN</td>\n",
       "    </tr>\n",
       "    <tr>\n",
       "      <th>2</th>\n",
       "      <td>822109</td>\n",
       "      <td>5.0</td>\n",
       "      <td>NaN</td>\n",
       "    </tr>\n",
       "    <tr>\n",
       "      <th>3</th>\n",
       "      <td>885013</td>\n",
       "      <td>4.0</td>\n",
       "      <td>NaN</td>\n",
       "    </tr>\n",
       "    <tr>\n",
       "      <th>4</th>\n",
       "      <td>30878</td>\n",
       "      <td>4.0</td>\n",
       "      <td>NaN</td>\n",
       "    </tr>\n",
       "  </tbody>\n",
       "</table>\n",
       "</div>"
      ],
      "text/plain": [
       "   Cust_Id  Rating Movie_Id\n",
       "0       1:     NaN        1\n",
       "1  1488844     3.0      NaN\n",
       "2   822109     5.0      NaN\n",
       "3   885013     4.0      NaN\n",
       "4    30878     4.0      NaN"
      ]
     },
     "execution_count": 19,
     "metadata": {},
     "output_type": "execute_result"
    }
   ],
   "source": [
    "# Create Movie_Id column using the value under Cust_Id with empty Rating\n",
    "df['Movie_Id'] = df[df['Rating'].isna()]['Cust_Id'].str.replace(':', '')\n",
    "df.head()"
   ]
  },
  {
   "cell_type": "code",
   "execution_count": 20,
   "id": "9cac5bdd",
   "metadata": {},
   "outputs": [
    {
     "data": {
      "text/html": [
       "<div>\n",
       "<style scoped>\n",
       "    .dataframe tbody tr th:only-of-type {\n",
       "        vertical-align: middle;\n",
       "    }\n",
       "\n",
       "    .dataframe tbody tr th {\n",
       "        vertical-align: top;\n",
       "    }\n",
       "\n",
       "    .dataframe thead th {\n",
       "        text-align: right;\n",
       "    }\n",
       "</style>\n",
       "<table border=\"1\" class=\"dataframe\">\n",
       "  <thead>\n",
       "    <tr style=\"text-align: right;\">\n",
       "      <th></th>\n",
       "      <th>Cust_Id</th>\n",
       "      <th>Rating</th>\n",
       "      <th>Movie_Id</th>\n",
       "    </tr>\n",
       "  </thead>\n",
       "  <tbody>\n",
       "    <tr>\n",
       "      <th>0</th>\n",
       "      <td>1:</td>\n",
       "      <td>NaN</td>\n",
       "      <td>1</td>\n",
       "    </tr>\n",
       "    <tr>\n",
       "      <th>1</th>\n",
       "      <td>1488844</td>\n",
       "      <td>3.0</td>\n",
       "      <td>1</td>\n",
       "    </tr>\n",
       "    <tr>\n",
       "      <th>2</th>\n",
       "      <td>822109</td>\n",
       "      <td>5.0</td>\n",
       "      <td>1</td>\n",
       "    </tr>\n",
       "    <tr>\n",
       "      <th>3</th>\n",
       "      <td>885013</td>\n",
       "      <td>4.0</td>\n",
       "      <td>1</td>\n",
       "    </tr>\n",
       "    <tr>\n",
       "      <th>4</th>\n",
       "      <td>30878</td>\n",
       "      <td>4.0</td>\n",
       "      <td>1</td>\n",
       "    </tr>\n",
       "  </tbody>\n",
       "</table>\n",
       "</div>"
      ],
      "text/plain": [
       "   Cust_Id  Rating Movie_Id\n",
       "0       1:     NaN        1\n",
       "1  1488844     3.0        1\n",
       "2   822109     5.0        1\n",
       "3   885013     4.0        1\n",
       "4    30878     4.0        1"
      ]
     },
     "execution_count": 20,
     "metadata": {},
     "output_type": "execute_result"
    }
   ],
   "source": [
    "# Fill all NaN Movie_Id using ffill - propagate last valid obsv\n",
    "df['Movie_Id'].fillna(method='ffill', inplace=True)\n",
    "df.head()"
   ]
  },
  {
   "cell_type": "code",
   "execution_count": 21,
   "id": "45adbeea",
   "metadata": {},
   "outputs": [],
   "source": [
    "# Drop rows with missing ratings - these correspond to Movie_Id and we have this as a new feat\n",
    "df.dropna(subset='Rating', inplace=True)"
   ]
  },
  {
   "cell_type": "code",
   "execution_count": 22,
   "id": "80b2282a",
   "metadata": {},
   "outputs": [
    {
     "name": "stdout",
     "output_type": "stream",
     "text": [
      "   Cust_Id  Rating Movie_Id\n",
      "1  1488844     3.0        1\n",
      "2   822109     5.0        1\n",
      "3   885013     4.0        1\n",
      "4    30878     4.0        1\n",
      "5   823519     3.0        1\n"
     ]
    }
   ],
   "source": [
    "# Check the results\n",
    "print(df.head())"
   ]
  },
  {
   "cell_type": "markdown",
   "id": "6569bbdc",
   "metadata": {},
   "source": [
    "# Data Slicing"
   ]
  },
  {
   "cell_type": "markdown",
   "id": "57b24188",
   "metadata": {},
   "source": [
    "To make the dataset more manageable and also improve the quality of the recommendations, we can filter out some entries:\n",
    "- Remove movies with very few reviews (since they are not popular, the rating may be less reliable)\n",
    "\n",
    "- Remove customers with very few reviews (since there are not many reviews, it may be hard to match them with other customers as well)"
   ]
  },
  {
   "cell_type": "code",
   "execution_count": 61,
   "id": "9c10da92",
   "metadata": {},
   "outputs": [
    {
     "data": {
      "image/png": "[encoded data removed]",
      "text/plain": [
       "<Figure size 640x480 with 1 Axes>"
      ]
     },
     "metadata": {
      "image/png": {
       "height": 471,
       "width": 629
      }
     },
     "output_type": "display_data"
    }
   ],
   "source": [
    "# Get data on number of movie ratings\n",
    "data = df.groupby('Movie_Id')['Rating'].count().clip(upper=9999)\n",
    "\n",
    "# Create a histogram to have an idea of ratings per movie\n",
    "ax = data.hist(bins=50) \n",
    "\n",
    "ax.set_title('Distribution of Ratings per Movie (max. ratings 9999)')\n",
    "ax.set_ylabel('Count')\n",
    "ax.set_xlabel('Ratings per Movie')\n",
    "plt.tight_layout()\n",
    "#plt.savefig('../saves/images/rating_permovie_distrib.png')\n",
    "plt.show()"
   ]
  },
  {
   "cell_type": "code",
   "execution_count": 62,
   "id": "bf60859b",
   "metadata": {},
   "outputs": [
    {
     "data": {
      "text/plain": [
       "9210"
      ]
     },
     "execution_count": 62,
     "metadata": {},
     "output_type": "execute_result"
    }
   ],
   "source": [
    "len(data)"
   ]
  },
  {
   "cell_type": "code",
   "execution_count": 63,
   "id": "3e66ebed",
   "metadata": {},
   "outputs": [],
   "source": [
    "del data"
   ]
  },
  {
   "cell_type": "code",
   "execution_count": 26,
   "id": "2c4bea2a",
   "metadata": {},
   "outputs": [
    {
     "data": {
      "text/plain": [
       "1053"
      ]
     },
     "execution_count": 26,
     "metadata": {},
     "output_type": "execute_result"
    }
   ],
   "source": [
    "# Filter out movies with few ratings\n",
    "# Min number of ratings per movie\n",
    "min_mov_ratings = 10000\n",
    "\n",
    "# create mask with movies that have more than min_mov_ratings\n",
    "filter_movies = (df['Movie_Id'].value_counts() > min_mov_ratings)\n",
    "\n",
    "# save index of movies with more than min_mov_ratings to a list\n",
    "filter_movies = filter_movies[filter_movies].index.tolist()\n",
    "len(filter_movies)"
   ]
  },
  {
   "cell_type": "markdown",
   "id": "ad868527",
   "metadata": {},
   "source": [
    "We have reduced the number of unique movies from 9210 to 1053"
   ]
  },
  {
   "cell_type": "code",
   "execution_count": 27,
   "id": "00c68ef8",
   "metadata": {},
   "outputs": [],
   "source": [
    "cust_data = df.groupby('Cust_Id').count()"
   ]
  },
  {
   "cell_type": "code",
   "execution_count": 28,
   "id": "27c13d26",
   "metadata": {},
   "outputs": [
    {
     "data": {
      "text/plain": [
       "478018"
      ]
     },
     "execution_count": 28,
     "metadata": {},
     "output_type": "execute_result"
    }
   ],
   "source": [
    "len(cust_data)"
   ]
  },
  {
   "cell_type": "code",
   "execution_count": 29,
   "id": "b7e711b4",
   "metadata": {},
   "outputs": [],
   "source": [
    "del cust_data"
   ]
  },
  {
   "cell_type": "code",
   "execution_count": 30,
   "id": "cd2dc3e2",
   "metadata": {},
   "outputs": [],
   "source": [
    "# Filter out customers with few ratings\n",
    "# Min number of ratings per customer\n",
    "min_cust_ratings = 200\n",
    "\n",
    "# Create user mask\n",
    "filter_cust = (df['Cust_Id'].value_counts() > min_cust_ratings)\n",
    "\n",
    "# Set index to a list\n",
    "filter_cust = filter_cust[filter_cust].index.tolist()"
   ]
  },
  {
   "cell_type": "code",
   "execution_count": 31,
   "id": "fa5575aa",
   "metadata": {},
   "outputs": [
    {
     "data": {
      "text/plain": [
       "75939"
      ]
     },
     "execution_count": 31,
     "metadata": {},
     "output_type": "execute_result"
    }
   ],
   "source": [
    "len(filter_cust)"
   ]
  },
  {
   "cell_type": "markdown",
   "id": "9a9a0686",
   "metadata": {},
   "source": [
    "We have reduced the number of unique users from 478018 to 75939"
   ]
  },
  {
   "cell_type": "code",
   "execution_count": 32,
   "id": "fd59eb9d",
   "metadata": {},
   "outputs": [],
   "source": [
    "# Now combine both filters to yield a filtered dataset\n",
    "df_filtered = df[(df['Movie_Id'].isin(filter_movies)) & (df['Cust_Id'].isin(filter_cust))]"
   ]
  },
  {
   "cell_type": "code",
   "execution_count": 33,
   "id": "e4429287",
   "metadata": {},
   "outputs": [],
   "source": [
    "# Remove filters from memory \n",
    "del filter_movies, filter_cust, min_mov_ratings, min_cust_ratings"
   ]
  },
  {
   "cell_type": "code",
   "execution_count": 34,
   "id": "ce88ecd6",
   "metadata": {},
   "outputs": [
    {
     "name": "stdout",
     "output_type": "stream",
     "text": [
      "Shape of raw user ratings dataframe: (51031355, 3)\n",
      "Shape of filtered user ratings dataframe: (21830456, 3)\n"
     ]
    }
   ],
   "source": [
    "# Compare the shapes of raw and filtered dfs\n",
    "print('Shape of raw user ratings dataframe: {}'.format(df.shape))\n",
    "print('Shape of filtered user ratings dataframe: {}'.format(df_filtered.shape))"
   ]
  },
  {
   "cell_type": "code",
   "execution_count": 35,
   "id": "80005e4a",
   "metadata": {
    "scrolled": true
   },
   "outputs": [
    {
     "data": {
      "text/html": [
       "<div>\n",
       "<style scoped>\n",
       "    .dataframe tbody tr th:only-of-type {\n",
       "        vertical-align: middle;\n",
       "    }\n",
       "\n",
       "    .dataframe tbody tr th {\n",
       "        vertical-align: top;\n",
       "    }\n",
       "\n",
       "    .dataframe thead th {\n",
       "        text-align: right;\n",
       "    }\n",
       "</style>\n",
       "<table border=\"1\" class=\"dataframe\">\n",
       "  <thead>\n",
       "    <tr style=\"text-align: right;\">\n",
       "      <th></th>\n",
       "      <th>Cust_Id</th>\n",
       "      <th>Rating</th>\n",
       "      <th>Movie_Id</th>\n",
       "    </tr>\n",
       "  </thead>\n",
       "  <tbody>\n",
       "    <tr>\n",
       "      <th>5109</th>\n",
       "      <td>785314</td>\n",
       "      <td>1.0</td>\n",
       "      <td>8</td>\n",
       "    </tr>\n",
       "    <tr>\n",
       "      <th>5110</th>\n",
       "      <td>243963</td>\n",
       "      <td>3.0</td>\n",
       "      <td>8</td>\n",
       "    </tr>\n",
       "    <tr>\n",
       "      <th>5112</th>\n",
       "      <td>1447783</td>\n",
       "      <td>4.0</td>\n",
       "      <td>8</td>\n",
       "    </tr>\n",
       "    <tr>\n",
       "      <th>5116</th>\n",
       "      <td>1912665</td>\n",
       "      <td>1.0</td>\n",
       "      <td>8</td>\n",
       "    </tr>\n",
       "    <tr>\n",
       "      <th>5119</th>\n",
       "      <td>1744889</td>\n",
       "      <td>1.0</td>\n",
       "      <td>8</td>\n",
       "    </tr>\n",
       "  </tbody>\n",
       "</table>\n",
       "</div>"
      ],
      "text/plain": [
       "      Cust_Id  Rating Movie_Id\n",
       "5109   785314     1.0        8\n",
       "5110   243963     3.0        8\n",
       "5112  1447783     4.0        8\n",
       "5116  1912665     1.0        8\n",
       "5119  1744889     1.0        8"
      ]
     },
     "execution_count": 35,
     "metadata": {},
     "output_type": "execute_result"
    }
   ],
   "source": [
    "df_filtered.head()"
   ]
  },
  {
   "cell_type": "markdown",
   "id": "a2f95ab1",
   "metadata": {},
   "source": [
    "# Data Mapping"
   ]
  },
  {
   "cell_type": "code",
   "execution_count": 76,
   "id": "ddcbb123",
   "metadata": {},
   "outputs": [
    {
     "data": {
      "text/html": [
       "<div>\n",
       "<style scoped>\n",
       "    .dataframe tbody tr th:only-of-type {\n",
       "        vertical-align: middle;\n",
       "    }\n",
       "\n",
       "    .dataframe tbody tr th {\n",
       "        vertical-align: top;\n",
       "    }\n",
       "\n",
       "    .dataframe thead th {\n",
       "        text-align: right;\n",
       "    }\n",
       "</style>\n",
       "<table border=\"1\" class=\"dataframe\">\n",
       "  <thead>\n",
       "    <tr style=\"text-align: right;\">\n",
       "      <th></th>\n",
       "      <th>Movie_Id</th>\n",
       "      <th>Year</th>\n",
       "      <th>Name</th>\n",
       "    </tr>\n",
       "  </thead>\n",
       "  <tbody>\n",
       "    <tr>\n",
       "      <th>0</th>\n",
       "      <td>1</td>\n",
       "      <td>2003.0</td>\n",
       "      <td>Dinosaur Planet</td>\n",
       "    </tr>\n",
       "    <tr>\n",
       "      <th>1</th>\n",
       "      <td>2</td>\n",
       "      <td>2004.0</td>\n",
       "      <td>Isle of Man TT 2004 Review</td>\n",
       "    </tr>\n",
       "    <tr>\n",
       "      <th>2</th>\n",
       "      <td>3</td>\n",
       "      <td>1997.0</td>\n",
       "      <td>Character</td>\n",
       "    </tr>\n",
       "    <tr>\n",
       "      <th>3</th>\n",
       "      <td>4</td>\n",
       "      <td>1994.0</td>\n",
       "      <td>Paula Abdul's Get Up &amp; Dance</td>\n",
       "    </tr>\n",
       "    <tr>\n",
       "      <th>4</th>\n",
       "      <td>5</td>\n",
       "      <td>2004.0</td>\n",
       "      <td>The Rise and Fall of ECW</td>\n",
       "    </tr>\n",
       "  </tbody>\n",
       "</table>\n",
       "</div>"
      ],
      "text/plain": [
       "   Movie_Id    Year                          Name\n",
       "0         1  2003.0               Dinosaur Planet\n",
       "1         2  2004.0    Isle of Man TT 2004 Review\n",
       "2         3  1997.0                     Character\n",
       "3         4  1994.0  Paula Abdul's Get Up & Dance\n",
       "4         5  2004.0      The Rise and Fall of ECW"
      ]
     },
     "execution_count": 76,
     "metadata": {},
     "output_type": "execute_result"
    }
   ],
   "source": [
    "# Let's load movie title information so we know what movie we are referring to\n",
    "titles = pd.read_csv('/home/eduardo/projects/recommender-data/movie_titles.csv', \n",
    "    header=None, \n",
    "    encoding=\"ISO-8859-1\",\n",
    "    usecols=[0, 1, 2],\n",
    "    names=['Movie_Id', 'Year', 'Name'])\n",
    "\n",
    "titles.head()"
   ]
  },
  {
   "cell_type": "code",
   "execution_count": 77,
   "id": "26a8f854",
   "metadata": {},
   "outputs": [
    {
     "data": {
      "text/html": [
       "<div>\n",
       "<style scoped>\n",
       "    .dataframe tbody tr th:only-of-type {\n",
       "        vertical-align: middle;\n",
       "    }\n",
       "\n",
       "    .dataframe tbody tr th {\n",
       "        vertical-align: top;\n",
       "    }\n",
       "\n",
       "    .dataframe thead th {\n",
       "        text-align: right;\n",
       "    }\n",
       "</style>\n",
       "<table border=\"1\" class=\"dataframe\">\n",
       "  <thead>\n",
       "    <tr style=\"text-align: right;\">\n",
       "      <th></th>\n",
       "      <th>Year</th>\n",
       "      <th>Name</th>\n",
       "    </tr>\n",
       "    <tr>\n",
       "      <th>Movie_Id</th>\n",
       "      <th></th>\n",
       "      <th></th>\n",
       "    </tr>\n",
       "  </thead>\n",
       "  <tbody>\n",
       "    <tr>\n",
       "      <th>559</th>\n",
       "      <td>1940.0</td>\n",
       "      <td>Rebecca: Bonus Material</td>\n",
       "    </tr>\n",
       "    <tr>\n",
       "      <th>11126</th>\n",
       "      <td>2000.0</td>\n",
       "      <td>Oz: Season 4</td>\n",
       "    </tr>\n",
       "    <tr>\n",
       "      <th>5271</th>\n",
       "      <td>1993.0</td>\n",
       "      <td>Cyborg 2</td>\n",
       "    </tr>\n",
       "    <tr>\n",
       "      <th>5257</th>\n",
       "      <td>2003.0</td>\n",
       "      <td>The Secret Lives of Dentists</td>\n",
       "    </tr>\n",
       "    <tr>\n",
       "      <th>9282</th>\n",
       "      <td>2005.0</td>\n",
       "      <td>WWE: The Best of Intercontinental Championship...</td>\n",
       "    </tr>\n",
       "  </tbody>\n",
       "</table>\n",
       "</div>"
      ],
      "text/plain": [
       "            Year                                               Name\n",
       "Movie_Id                                                           \n",
       "559       1940.0                            Rebecca: Bonus Material\n",
       "11126     2000.0                                       Oz: Season 4\n",
       "5271      1993.0                                           Cyborg 2\n",
       "5257      2003.0                       The Secret Lives of Dentists\n",
       "9282      2005.0  WWE: The Best of Intercontinental Championship..."
      ]
     },
     "execution_count": 77,
     "metadata": {},
     "output_type": "execute_result"
    }
   ],
   "source": [
    "# Index is redundant with Movie_Id\n",
    "titles.set_index('Movie_Id', inplace=True)\n",
    "titles.sample(5)"
   ]
  },
  {
   "cell_type": "markdown",
   "id": "49a67183",
   "metadata": {},
   "source": [
    "# Recommenders"
   ]
  },
  {
   "cell_type": "markdown",
   "id": "4d65a292",
   "metadata": {},
   "source": [
    "## Surprise"
   ]
  },
  {
   "cell_type": "code",
   "execution_count": 40,
   "id": "887c3350",
   "metadata": {},
   "outputs": [
    {
     "data": {
      "text/plain": [
       "<surprise.prediction_algorithms.matrix_factorization.SVD at 0x7fab9bf8a3a0>"
      ]
     },
     "execution_count": 40,
     "metadata": {},
     "output_type": "execute_result"
    }
   ],
   "source": [
    "# Load the dataset from our filtered Pandas dataframe\n",
    "reader = Reader(rating_scale=(1.0, 5.0))\n",
    "data = Dataset.load_from_df(df_filtered[['Cust_Id', 'Movie_Id', 'Rating']], reader)\n"
   ]
  },
  {
   "cell_type": "markdown",
   "id": "e0cc69d0",
   "metadata": {},
   "source": [
    "### Using `train_test_split` and `test()` method"
   ]
  },
  {
   "cell_type": "code",
   "execution_count": 43,
   "id": "1510c6f7",
   "metadata": {},
   "outputs": [
    {
     "data": {
      "text/plain": [
       "[Prediction(uid='740199', iid='5243', r_ui=3.0, est=2.8422426741198397, details={'was_impossible': False}),\n",
       " Prediction(uid='880685', iid='2395', r_ui=4.0, est=3.615878797674962, details={'was_impossible': False}),\n",
       " Prediction(uid='2354382', iid='5591', r_ui=3.0, est=3.952796551131126, details={'was_impossible': False}),\n",
       " Prediction(uid='1709432', iid='6833', r_ui=3.0, est=3.0785484948319835, details={'was_impossible': False}),\n",
       " Prediction(uid='2051003', iid='2452', r_ui=3.0, est=3.85793998004736, details={'was_impossible': False})]"
      ]
     },
     "execution_count": 43,
     "metadata": {},
     "output_type": "execute_result"
    }
   ],
   "source": [
    "# Split train and test datasets with a 80:20 ratio\n",
    "train, test = train_test_split(data, test_size=0.2)\n",
    "\n",
    "# Instantiate the model using SVD algorithm\n",
    "model = SVD()\n",
    "model.fit(train)\n",
    "\n",
    "# Making predictions for first 5 users in test set\n",
    "pred = model.test(test[:5])\n",
    "pred"
   ]
  },
  {
   "cell_type": "markdown",
   "id": "e60ba3f6",
   "metadata": {},
   "source": [
    "In the output above, each prediction gives an estimated rating (`est`) that a user (`uid`) would give to a movie (`iid`). We can compare this with the actual rating (`r_ui`) given by the user."
   ]
  },
  {
   "cell_type": "markdown",
   "id": "0f31252a",
   "metadata": {},
   "source": [
    "### Using cross-validation"
   ]
  },
  {
   "cell_type": "code",
   "execution_count": 46,
   "id": "70410b83",
   "metadata": {},
   "outputs": [
    {
     "name": "stdout",
     "output_type": "stream",
     "text": [
      "Evaluating RMSE, MAE of algorithm SVD on 10 split(s).\n",
      "\n",
      "                  Fold 1  Fold 2  Fold 3  Fold 4  Fold 5  Fold 6  Fold 7  Fold 8  Fold 9  Fold 10 Mean    Std     \n",
      "RMSE (testset)    0.7949  0.7944  0.7946  0.7945  0.7946  0.7937  0.7943  0.7948  0.7952  0.7939  0.7945  0.0004  \n",
      "MAE (testset)     0.6183  0.6179  0.6181  0.6182  0.6180  0.6174  0.6181  0.6181  0.6186  0.6179  0.6181  0.0003  \n",
      "Fit time          238.83  244.34  235.15  234.19  229.71  231.41  232.23  232.92  232.88  235.05  234.67  3.99    \n",
      "Test time         51.90   37.29   31.35   41.70   41.90   36.58   36.78   42.36   37.34   42.64   39.98   5.21    \n"
     ]
    }
   ],
   "source": [
    "# Use cross-validation to evaluate the model\n",
    "results = cross_validate(model, data, measures=['RMSE', 'MAE'], cv=10, verbose=True)"
   ]
  }
 ],
 "metadata": {
  "kernelspec": {
   "display_name": "Python 3 (ipykernel)",
   "language": "python",
   "name": "python3"
  },
  "language_info": {
   "codemirror_mode": {
    "name": "ipython",
    "version": 3
   },
   "file_extension": ".py",
   "mimetype": "text/x-python",
   "name": "python",
   "nbconvert_exporter": "python",
   "pygments_lexer": "ipython3",
   "version": "3.9.12"
  }
 },
 "nbformat": 4,
 "nbformat_minor": 5
}
